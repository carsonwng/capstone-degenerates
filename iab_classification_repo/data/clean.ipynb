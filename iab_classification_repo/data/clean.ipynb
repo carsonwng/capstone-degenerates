{
 "cells": [
  {
   "cell_type": "code",
   "execution_count": 13,
   "metadata": {},
   "outputs": [],
   "source": [
    "with open(\"./desc_urls.txt\", \"r+\", encoding=\"utf-8\") as file:\n",
    "    seen = []\n",
    "\n",
    "    for line in file:\n",
    "        if line in seen:\n",
    "            continue\n",
    "        \n",
    "        seen.append(line)\n",
    "    \n",
    "    file.seek(0)\n",
    "    file.write(\"\".join(seen))\n",
    "    "
   ]
  },
  {
   "cell_type": "code",
   "execution_count": 12,
   "metadata": {},
   "outputs": [],
   "source": [
    "import csv\n",
    "\n",
    "generic_input = open(\"./generic_desc_urls.txt\")\n",
    "food_input = open(\"./desc_urls.txt\")\n",
    "\n",
    "write_file = open(\"./output_labels.csv\", \"w\", encoding=\"utf-8\")\n",
    "writer = csv.writer(write_file, delimiter=\"\\t\", lineterminator=\"\\r\")\n",
    "\n",
    "for line in generic_input:\n",
    "    writer.writerow([line.split(\"\\n\")[0], 0])\n",
    "\n",
    "for line in food_input:\n",
    "    writer.writerow([line.split(\"\\n\")[0], 1])\n",
    "\n",
    "write_file.close()\n",
    "\n",
    "\n"
   ]
  }
 ],
 "metadata": {
  "kernelspec": {
   "display_name": "Python 3",
   "language": "python",
   "name": "python3"
  },
  "language_info": {
   "codemirror_mode": {
    "name": "ipython",
    "version": 3
   },
   "file_extension": ".py",
   "mimetype": "text/x-python",
   "name": "python",
   "nbconvert_exporter": "python",
   "pygments_lexer": "ipython3",
   "version": "3.11.6"
  }
 },
 "nbformat": 4,
 "nbformat_minor": 2
}
